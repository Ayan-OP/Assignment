{
 "cells": [
  {
   "cell_type": "code",
   "execution_count": 2,
   "id": "eede8b27-a3d8-498d-9f05-5084195172af",
   "metadata": {},
   "outputs": [],
   "source": [
    "#1\n",
    "\n",
    "def validity(s):\n",
    "    c=0\n",
    "    u=0\n",
    "    l=0\n",
    "    n=0\n",
    "    sp=0\n",
    "    for i in s:\n",
    "        c=c+1\n",
    "        if ord(i)>=65 and ord(i)<=90:\n",
    "            u=u+1\n",
    "        elif ord(i)>=97 and ord(i)<=122:\n",
    "            l=l+1\n",
    "        elif ord(i)>=48 and ord(i)<=57:\n",
    "            n=n+1\n",
    "        else:\n",
    "            sp=sp+1\n",
    "    if (u>=2 and l>=2 and n>=1 and sp==3 and c==10):\n",
    "        return \"Valid Password\"\n",
    "    else:\n",
    "        return \"Invalid Password\"    "
   ]
  },
  {
   "cell_type": "code",
   "execution_count": 3,
   "id": "a8683deb-19d2-4b6e-9fb3-5605374117d9",
   "metadata": {},
   "outputs": [
    {
     "name": "stdin",
     "output_type": "stream",
     "text": [
      "Enter the password: AYan#$@123\n"
     ]
    },
    {
     "name": "stdout",
     "output_type": "stream",
     "text": [
      "Valid Password\n"
     ]
    }
   ],
   "source": [
    "s=input(\"Enter the password:\") \n",
    "print(validity(s))"
   ]
  },
  {
   "cell_type": "code",
   "execution_count": 4,
   "id": "c4f1f577-6590-48a1-9965-aa2443d117fc",
   "metadata": {},
   "outputs": [
    {
     "name": "stdin",
     "output_type": "stream",
     "text": [
      "Enter the password: AyanU87%411\n"
     ]
    },
    {
     "name": "stdout",
     "output_type": "stream",
     "text": [
      "Invalid Password\n"
     ]
    }
   ],
   "source": [
    "s=input(\"Enter the password:\") \n",
    "print(validity(s))"
   ]
  },
  {
   "cell_type": "code",
   "execution_count": 10,
   "id": "a0f6cd62-1f62-457b-83ad-aea2b9f2825c",
   "metadata": {},
   "outputs": [
    {
     "name": "stdin",
     "output_type": "stream",
     "text": [
      "Enter any string: yo1254\n"
     ]
    },
    {
     "name": "stdout",
     "output_type": "stream",
     "text": [
      "Yes\n"
     ]
    }
   ],
   "source": [
    "#2\n",
    "\n",
    "s=input(\"Enter any string:\")\n",
    "a=lambda s:\"Yes\" if s[0].isalpha()==True else \"No\"\n",
    "print(a(s))"
   ]
  },
  {
   "cell_type": "code",
   "execution_count": 9,
   "id": "2d9cdb41-0af5-454f-a54f-bd380b5254e7",
   "metadata": {},
   "outputs": [
    {
     "name": "stdin",
     "output_type": "stream",
     "text": [
      "Enter any string: 124587\n"
     ]
    },
    {
     "name": "stdout",
     "output_type": "stream",
     "text": [
      "Yes\n"
     ]
    }
   ],
   "source": [
    "s1=input(\"Enter any string:\")\n",
    "a=lambda s1:\"Yes\" if s1.isnumeric()==True else \"No\"\n",
    "print(a(s1))"
   ]
  },
  {
   "cell_type": "code",
   "execution_count": 13,
   "id": "7b2c8af7-7f5c-4808-a9e5-96815b0a823f",
   "metadata": {},
   "outputs": [
    {
     "data": {
      "text/plain": [
       "[('mango', 99), ('orange', 80), ('grapes', 1000)]"
      ]
     },
     "execution_count": 13,
     "metadata": {},
     "output_type": "execute_result"
    }
   ],
   "source": [
    "l=[(\"mango\",99),(\"orange\",80),(\"grapes\",1000)]\n",
    "nl=sorted(l,key=lambda x:x[1],reverse=False)\n",
    "l"
   ]
  },
  {
   "cell_type": "code",
   "execution_count": 14,
   "id": "95eb7b47-aa88-44ff-bb12-d54687cb9010",
   "metadata": {},
   "outputs": [
    {
     "data": {
      "text/plain": [
       "[('orange', 80), ('mango', 99), ('grapes', 1000)]"
      ]
     },
     "execution_count": 14,
     "metadata": {},
     "output_type": "execute_result"
    }
   ],
   "source": [
    "nl"
   ]
  },
  {
   "cell_type": "code",
   "execution_count": 17,
   "id": "0b7acb68-c920-41e1-b63e-b7e3334f83a6",
   "metadata": {},
   "outputs": [
    {
     "name": "stdout",
     "output_type": "stream",
     "text": [
      "[1, 2, 3, 4, 5, 6, 7, 8, 9, 10]\n"
     ]
    },
    {
     "data": {
      "text/plain": [
       "[1, 4, 9, 16, 25, 36, 49, 64, 81, 100]"
      ]
     },
     "execution_count": 17,
     "metadata": {},
     "output_type": "execute_result"
    }
   ],
   "source": [
    "l1=[]\n",
    "for i in range(1,11):\n",
    "    l1.append(i)\n",
    "print(l1)\n",
    "list(map(lambda x:x**2,l1))"
   ]
  },
  {
   "cell_type": "code",
   "execution_count": 19,
   "id": "f762d504-37bd-4454-b480-208fd96de595",
   "metadata": {},
   "outputs": [
    {
     "data": {
      "text/plain": [
       "[1, 8, 27, 64, 125, 216, 343, 512, 729, 1000]"
      ]
     },
     "execution_count": 19,
     "metadata": {},
     "output_type": "execute_result"
    }
   ],
   "source": [
    "list(map(lambda x:x**3,l1))"
   ]
  },
  {
   "cell_type": "code",
   "execution_count": 20,
   "id": "9b172297-7410-4d3a-8230-2cdb4a0774f0",
   "metadata": {},
   "outputs": [
    {
     "name": "stdin",
     "output_type": "stream",
     "text": [
      "Enter any number: 45\n"
     ]
    },
    {
     "name": "stdout",
     "output_type": "stream",
     "text": [
      "No\n"
     ]
    }
   ],
   "source": [
    "n=eval(input(\"Enter any number:\"))\n",
    "a=lambda x:\"Yes\" if x%2==0 else \"No\"\n",
    "print(a(n))"
   ]
  },
  {
   "cell_type": "code",
   "execution_count": 22,
   "id": "a38fd71e-9621-44a7-a989-780316b02f31",
   "metadata": {},
   "outputs": [
    {
     "data": {
      "text/plain": [
       "[1, 3, 5, 7, 9]"
      ]
     },
     "execution_count": 22,
     "metadata": {},
     "output_type": "execute_result"
    }
   ],
   "source": [
    "l=[1,2,3,4,5,6,7,8,9,10]\n",
    "list(filter(lambda x:x%2==1,l))"
   ]
  },
  {
   "cell_type": "code",
   "execution_count": 27,
   "id": "493fefa8-bf5a-4f64-8967-568fc98bfdd6",
   "metadata": {},
   "outputs": [
    {
     "name": "stdout",
     "output_type": "stream",
     "text": [
      "[1, 2, 3, 4, 5, 6, -1, -2, -3, -4, -5, 0] [1, 2, 3, 4, 5, 6, 0] [-1, -2, -3, -4, -5]\n"
     ]
    }
   ],
   "source": [
    "l=[1,2,3,4,5,6,-1,-2,-3,-4,-5,0]\n",
    "nl1=[i for i in l if i>=0]\n",
    "nl2=[i for i in l if i<0]\n",
    "print(l,nl1,nl2)"
   ]
  }
 ],
 "metadata": {
  "kernelspec": {
   "display_name": "Python 3 (ipykernel)",
   "language": "python",
   "name": "python3"
  },
  "language_info": {
   "codemirror_mode": {
    "name": "ipython",
    "version": 3
   },
   "file_extension": ".py",
   "mimetype": "text/x-python",
   "name": "python",
   "nbconvert_exporter": "python",
   "pygments_lexer": "ipython3",
   "version": "3.10.8"
  }
 },
 "nbformat": 4,
 "nbformat_minor": 5
}
