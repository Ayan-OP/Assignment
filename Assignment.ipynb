{
 "cells": [
  {
   "cell_type": "code",
   "execution_count": null,
   "id": "149213d7-8638-4054-a7d6-1b16a204f7c4",
   "metadata": {},
   "outputs": [],
   "source": [
    "'''\n",
    "1. Guido van Rossum developed Python Programming language.\n",
    "\n",
    "2. Python supports Object oriented programming as well as structured programming. \n",
    "\n",
    "3. Yes, Python is case sensitive when dealing with identifiers.\n",
    "\n",
    "4. The extension of python file is .py\n",
    "\n",
    "5. Python is an interpreted language, which means the source code of a Python program is converted into bytecode that is then executed by the Python virtual machine.\n",
    "\n",
    "6. Few block of code include amodule, a function body, and a class definition.\n",
    "\n",
    "7. '#' is the character which is used to give single-line comments in Python.\n",
    "\n",
    "8. The function sys. version can help us to find the version of python that we are currently working on.\n",
    "\n",
    "9. lambda\n",
    "\n",
    "10. Preferred Installer Program\n",
    "\n",
    "11. Some built in functions include-- len(), type(), list(), bin() etc.\n",
    "\n",
    "12. 79 characters\n",
    "\n",
    "13. benefits of Python include--\n",
    "     Extensive library\n",
    "     Dynamically typed\n",
    "     portability\n",
    "     free and open source \n",
    "     interpreted language\n",
    "\n",
    "14. Memory management in Python involves a private heap containing all Python objects and data structures. The management of this private heap is ensured internally by the Python memory manager.\n",
    "\n",
    "16. The indentation in Python is very important. Python uses indentation to indicate a block of code."
   ]
  }
 ],
 "metadata": {
  "kernelspec": {
   "display_name": "Python 3 (ipykernel)",
   "language": "python",
   "name": "python3"
  },
  "language_info": {
   "codemirror_mode": {
    "name": "ipython",
    "version": 3
   },
   "file_extension": ".py",
   "mimetype": "text/x-python",
   "name": "python",
   "nbconvert_exporter": "python",
   "pygments_lexer": "ipython3",
   "version": "3.10.8"
  }
 },
 "nbformat": 4,
 "nbformat_minor": 5
}
