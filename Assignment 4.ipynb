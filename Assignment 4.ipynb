{
 "cells": [
  {
   "cell_type": "code",
   "execution_count": 6,
   "id": "051dfd08-bb6d-45e7-b631-0c5492c35d22",
   "metadata": {},
   "outputs": [],
   "source": [
    "#1\n",
    "\n",
    "'''A class is considered as a blueprint of objects. We can think of the class as a sketch of a house. It contains all the details about the floors, doors, windows, etc. Based on these descriptions we build the house. House is the object.\n",
    "Since many houses can be made from the same description, we can create many objects from a class.'''\n",
    "\n",
    "# create class\n",
    "class Bike:\n",
    "    name = \"\"\n",
    "    gear = 0\n",
    "\n",
    "# create objects of class\n",
    "bike1 = Bike()"
   ]
  },
  {
   "cell_type": "code",
   "execution_count": 3,
   "id": "71ca211e-cc82-48b9-9391-c0e641fe8e85",
   "metadata": {},
   "outputs": [
    {
     "data": {
      "text/plain": [
       "'\\nThe four Pillars of OOPs are:\\n    -> Polymorphism\\n    -> Inheritance\\n    -> Encapsulation\\n    -> Abstraction\\n'"
      ]
     },
     "execution_count": 3,
     "metadata": {},
     "output_type": "execute_result"
    }
   ],
   "source": [
    "#2\n",
    "\n",
    "'''\n",
    "The four Pillars of OOPs are:\n",
    "    -> Polymorphism\n",
    "    -> Inheritance\n",
    "    -> Encapsulation\n",
    "    -> Abstraction\n",
    "'''"
   ]
  },
  {
   "cell_type": "code",
   "execution_count": 4,
   "id": "9aa1b3a7-8abc-4fce-8212-c009227f4a29",
   "metadata": {},
   "outputs": [],
   "source": [
    "#3\n",
    "\n",
    "'''\n",
    "__init__() is the constructor function that is called whenever a new object of that class is instantiated.\n",
    "'''\n",
    "class Bike:\n",
    "\n",
    "    # constructor function    \n",
    "    def __init__(self, name = \"\"):\n",
    "        self.name = name\n",
    "\n",
    "bike1 = Bike(\"Royal Enfield\")"
   ]
  },
  {
   "cell_type": "code",
   "execution_count": 5,
   "id": "4b76e3ae-ba8e-4fa0-8229-0b137f23cf4d",
   "metadata": {},
   "outputs": [
    {
     "data": {
      "text/plain": [
       "\"\\nThe self variable is used to represent the instance of the class which is often used in object-oriented programming. It works as a reference to the object. \\nPython uses the self parameter to refer to instance attributes and methods of the class.\\nFirst argument in any method of a class should be 'self' and it is not a reserved keyword we can use some other name in place of it and no error will be encountered.\\n\""
      ]
     },
     "execution_count": 5,
     "metadata": {},
     "output_type": "execute_result"
    }
   ],
   "source": [
    "#4\n",
    "\n",
    "'''\n",
    "The self variable is used to represent the instance of the class which is often used in object-oriented programming. It works as a reference to the object. \n",
    "Python uses the self parameter to refer to instance attributes and methods of the class.\n",
    "First argument in any method of a class should be 'self' and it is not a reserved keyword we can use some other name in place of it and no error will be encountered.\n",
    "'''"
   ]
  },
  {
   "cell_type": "code",
   "execution_count": null,
   "id": "a04cd176-4a1b-469d-b316-a6db9cf85217",
   "metadata": {},
   "outputs": [],
   "source": [
    "#5\n",
    "\n",
    "'''\n",
    "Inheritance in python programming is the concept of deriving a new class from an existing class. \n",
    "Using the concept of inheritance we can inherit the properties of the existing class to our new class. \n",
    "The new derived class is called the child class and the existing class is called the parent class. \n",
    "There are five types of inheritance in python programming:\n",
    "1) Single inheritance\n",
    "2) Multiple inheritances\n",
    "3) Multilevel inheritance\n",
    "4) Hierarchical inheritance\n",
    "5) Hybrid inheritance\n",
    "'''"
   ]
  }
 ],
 "metadata": {
  "kernelspec": {
   "display_name": "Python 3 (ipykernel)",
   "language": "python",
   "name": "python3"
  },
  "language_info": {
   "codemirror_mode": {
    "name": "ipython",
    "version": 3
   },
   "file_extension": ".py",
   "mimetype": "text/x-python",
   "name": "python",
   "nbconvert_exporter": "python",
   "pygments_lexer": "ipython3",
   "version": "3.10.8"
  }
 },
 "nbformat": 4,
 "nbformat_minor": 5
}
