{
 "cells": [
  {
   "cell_type": "code",
   "execution_count": 13,
   "id": "e5c655f7-1fd2-4d93-97c4-4eb0b5ab5446",
   "metadata": {},
   "outputs": [],
   "source": [
    "\n",
    "\n",
    "def prod(l):\n",
    "    l1=[]\n",
    "    pro=1\n",
    "    for i in l:\n",
    "        if type(i)==int:\n",
    "            l1.append(i)\n",
    "        elif type(i)==list:\n",
    "            for j in i:\n",
    "                if type(j)==int:\n",
    "                    l1.append(j)\n",
    "        elif type(i)==tuple:\n",
    "            for j in i:\n",
    "                if type(j)==int:\n",
    "                    l1.append(j)\n",
    "        elif type(i)==set:\n",
    "            for j in i:\n",
    "                if type(j)==int:\n",
    "                    l1.append(j)\n",
    "        elif type(i)==dict:\n",
    "            for j in i.keys():\n",
    "                if type(j)==int:\n",
    "                    l1.append(j)\n",
    "            for j in i.values():\n",
    "                if type(j)==int:\n",
    "                    l1.append(j)\n",
    "                elif type(j)==list:\n",
    "                    for k in j:\n",
    "                        if type(k)==int:\n",
    "                            l1.append(k)\n",
    "                elif type(j)==tuple:\n",
    "                    for k in j:\n",
    "                        if type(k)==int:\n",
    "                            l1.append(k) \n",
    "    for i in l1:\n",
    "        pro=pro*i\n",
    "    return l1,pro"
   ]
  },
  {
   "cell_type": "code",
   "execution_count": 14,
   "id": "e09e2dbd-04fe-4065-bd55-fcd4aa50775e",
   "metadata": {},
   "outputs": [
    {
     "name": "stdout",
     "output_type": "stream",
     "text": [
      "[1, 2, 3, 4, 44, 55, 66, 34, 56, 78, 89, 34, 1, 2, 3, 1, 4, 34, 55, 67, 78, 89, 45, 22, 61, 34, 56]\n",
      "The product of the numbers in the above list is: 4134711838987085478833841242112000\n"
     ]
    }
   ],
   "source": [
    "l=[1,2,3,4,[44,55,66,True],False,(34,56,78,89,34),{1,2,3,3,2,1},{1:34,\"key2\":[55,67,78,89],4:(45,22,61,34)},[56,'data science'],'Machine Learning']\n",
    "l1,pro=prod(l)\n",
    "print(l1)\n",
    "print(\"The product of the numbers in the above list is:\",pro)"
   ]
  },
  {
   "cell_type": "code",
   "execution_count": 31,
   "id": "fa292a04-4d43-4a7e-b803-3f0d111b4b17",
   "metadata": {},
   "outputs": [],
   "source": [
    "#2\n",
    "\n",
    "def convert(s):\n",
    "    if ord(s)>=97 and ord(s)<=122:\n",
    "        s=chr(219-ord(s))\n",
    "        return s\n",
    "    elif s==\" \":\n",
    "        s=\"$\"\n",
    "        return s\n",
    "    else:\n",
    "        return s"
   ]
  },
  {
   "cell_type": "code",
   "execution_count": 32,
   "id": "d2869ce5-9def-4e28-a9f4-429078c019e8",
   "metadata": {},
   "outputs": [
    {
     "name": "stdout",
     "output_type": "stream",
     "text": [
      "r$dzmg$gl$yvxlnv$z$wzgz$hxrvmgrhg.\n"
     ]
    }
   ],
   "source": [
    "s=\"I want to become a Data Scientist.\"\n",
    "s1=\"\"\n",
    "for i in s.lower():\n",
    "    con=convert(i)\n",
    "    s1=s1+con\n",
    "print(s1)"
   ]
  },
  {
   "cell_type": "code",
   "execution_count": null,
   "id": "3e7137b8-dada-4311-8a4a-fec490d4a684",
   "metadata": {},
   "outputs": [],
   "source": []
  }
 ],
 "metadata": {
  "kernelspec": {
   "display_name": "Python 3 (ipykernel)",
   "language": "python",
   "name": "python3"
  },
  "language_info": {
   "codemirror_mode": {
    "name": "ipython",
    "version": 3
   },
   "file_extension": ".py",
   "mimetype": "text/x-python",
   "name": "python",
   "nbconvert_exporter": "python",
   "pygments_lexer": "ipython3",
   "version": "3.10.8"
  }
 },
 "nbformat": 4,
 "nbformat_minor": 5
}
