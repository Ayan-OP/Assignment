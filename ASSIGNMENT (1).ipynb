{
 "cells": [
  {
   "cell_type": "code",
   "execution_count": 1,
   "id": "d8e8d18d-9320-4ed0-aafd-22a830fb3ec0",
   "metadata": {},
   "outputs": [
    {
     "name": "stdout",
     "output_type": "stream",
     "text": [
      "[1, 3, 5, 7, 9, 11, 13, 15, 17, 19, 21, 23, 25]\n"
     ]
    }
   ],
   "source": [
    "#1\n",
    "\n",
    "# def keyword is used to create function.\n",
    "def odd(n):\n",
    "    l1=[]\n",
    "    for i in range(n):\n",
    "        if i%2==1:\n",
    "            l1.append(i)\n",
    "    return l1\n",
    "        \n",
    "print(odd(26))"
   ]
  },
  {
   "cell_type": "code",
   "execution_count": 2,
   "id": "25ad0f85-7fda-4c01-86f6-e7f3441d95eb",
   "metadata": {},
   "outputs": [
    {
     "name": "stdout",
     "output_type": "stream",
     "text": [
      "ayan\n",
      "rohit\n",
      "abinash\n",
      "aaditya\n"
     ]
    }
   ],
   "source": [
    "#2\n",
    "\n",
    "''' *args is used when we need to pass a lot of variables from the user. This helps us to avoid creating a lot of unnecessary variables.\n",
    "    *kwargs is used in the same way as *args but in case of dictionaries where we need key vaue pairs.\n",
    "'''\n",
    "def func(*args):\n",
    "    for i in args:\n",
    "        print(i)\n",
    "func('ayan','rohit','abinash','aaditya')"
   ]
  },
  {
   "cell_type": "code",
   "execution_count": 3,
   "id": "c7e8015c-c961-4921-a178-a6c53cc4518c",
   "metadata": {},
   "outputs": [
    {
     "name": "stdout",
     "output_type": "stream",
     "text": [
      "name : ayan\n",
      "year : 2nd\n",
      "hobby : dance\n"
     ]
    }
   ],
   "source": [
    "def func1(**kwargs):\n",
    "    for i,j in kwargs.items():\n",
    "        print(i,':',j)\n",
    "func1(name='ayan',year='2nd',hobby='dance')"
   ]
  },
  {
   "cell_type": "code",
   "execution_count": 4,
   "id": "ea45d0f9-0382-41e5-9b16-b61947cd0a74",
   "metadata": {},
   "outputs": [
    {
     "name": "stdout",
     "output_type": "stream",
     "text": [
      "2\n",
      "4\n",
      "6\n",
      "8\n",
      "10\n",
      "12\n",
      "14\n",
      "16\n",
      "18\n",
      "20\n"
     ]
    }
   ],
   "source": [
    "#3\n",
    "\n",
    "'''\n",
    "An iterator is an object that can be iterated upon, meaning we can traverse through all the values.\n",
    "The iter() method is used to initialise the iterator object while the next() method is used for iteration.\n",
    "'''\n",
    "l=[2,4,6,8,10,12,14,16,18,20]\n",
    "obj=iter(l)\n",
    "for i in range(10):\n",
    "    print(next(obj))"
   ]
  },
  {
   "cell_type": "code",
   "execution_count": 5,
   "id": "d9a28fc8-14d2-46d5-a232-bc48245854b8",
   "metadata": {},
   "outputs": [
    {
     "name": "stdout",
     "output_type": "stream",
     "text": [
      "0\n",
      "1\n",
      "1\n",
      "2\n",
      "3\n",
      "5\n",
      "8\n",
      "13\n",
      "21\n",
      "34\n"
     ]
    }
   ],
   "source": [
    "#4\n",
    "\n",
    "'''\n",
    "A generator is a function that returns an iterator that produces a sequence of values when iterated over. Generators are useful when we want to produce a large sequence of values, but we don't want to store all of them in memory at once.\n",
    "yield keyword is used to produce a value from the generator function.\n",
    "'''\n",
    "def func2(n):\n",
    "    a,b=0,1\n",
    "    for i in range(n):\n",
    "        yield a\n",
    "        a,b=b,a+b\n",
    "for i in func2(10):\n",
    "    print(i)"
   ]
  },
  {
   "cell_type": "code",
   "execution_count": 6,
   "id": "45427c15-2f49-4814-a373-babd3b209827",
   "metadata": {},
   "outputs": [
    {
     "name": "stdout",
     "output_type": "stream",
     "text": [
      "2\n",
      "3\n",
      "5\n",
      "7\n",
      "11\n",
      "13\n",
      "17\n",
      "19\n",
      "23\n",
      "29\n",
      "31\n",
      "37\n",
      "41\n",
      "43\n",
      "47\n",
      "53\n",
      "59\n",
      "61\n",
      "67\n",
      "71\n"
     ]
    }
   ],
   "source": [
    "#5\n",
    "\n",
    "def prime():\n",
    "    for i in range(2,1000):\n",
    "        c=0\n",
    "        for j in range(2,int(i**0.5)+1):\n",
    "            if i%j==0:\n",
    "                c+=1\n",
    "        if c==0:\n",
    "            yield i\n",
    "pr=prime()\n",
    "for i in range(20):\n",
    "    print(next(pr))"
   ]
  },
  {
   "cell_type": "code",
   "execution_count": 7,
   "id": "431f888a-81b1-4894-b97e-60c6a9afce2d",
   "metadata": {},
   "outputs": [
    {
     "name": "stdout",
     "output_type": "stream",
     "text": [
      "0\n",
      "1\n",
      "1\n",
      "2\n",
      "3\n",
      "5\n",
      "8\n",
      "13\n",
      "21\n",
      "34\n"
     ]
    }
   ],
   "source": [
    "#6\n",
    "\n",
    "def fibo():\n",
    "    a,b=0,1\n",
    "    while True:\n",
    "        yield a\n",
    "        a,b=b,a+b\n",
    "fib=fibo()\n",
    "for i in range(10):\n",
    "    print(next(fib))"
   ]
  },
  {
   "cell_type": "code",
   "execution_count": 8,
   "id": "ad279a53-0d73-47fb-9478-c9a082d50d3a",
   "metadata": {},
   "outputs": [
    {
     "data": {
      "text/plain": [
       "['p', 'w', 's', 'k', 'i', 'l', 'l', 's']"
      ]
     },
     "execution_count": 8,
     "metadata": {},
     "output_type": "execute_result"
    }
   ],
   "source": [
    "#7\n",
    "\n",
    "s='pwskills'\n",
    "[i for i in s]"
   ]
  },
  {
   "cell_type": "code",
   "execution_count": 11,
   "id": "07b49d3b-80b1-436c-bde9-5354fe52e4a4",
   "metadata": {},
   "outputs": [
    {
     "name": "stdin",
     "output_type": "stream",
     "text": [
      "Enter any number: 2002\n"
     ]
    },
    {
     "name": "stdout",
     "output_type": "stream",
     "text": [
      "Palindrome number\n"
     ]
    }
   ],
   "source": [
    "#8\n",
    "\n",
    "n=int(input(\"Enter any number:\"))\n",
    "i=n\n",
    "rev=0\n",
    "while n>0:\n",
    "    mod=n%10\n",
    "    rev=rev*10+mod\n",
    "    n=n//10\n",
    "if i==rev:\n",
    "    print(\"Palindrome number\")\n",
    "else:\n",
    "    print(\"Not a Palindrome number\")"
   ]
  },
  {
   "cell_type": "code",
   "execution_count": 12,
   "id": "aec5e56e-48b6-4057-b79c-35b823dffb22",
   "metadata": {},
   "outputs": [
    {
     "data": {
      "text/plain": [
       "[1,\n",
       " 3,\n",
       " 5,\n",
       " 7,\n",
       " 9,\n",
       " 11,\n",
       " 13,\n",
       " 15,\n",
       " 17,\n",
       " 19,\n",
       " 21,\n",
       " 23,\n",
       " 25,\n",
       " 27,\n",
       " 29,\n",
       " 31,\n",
       " 33,\n",
       " 35,\n",
       " 37,\n",
       " 39,\n",
       " 41,\n",
       " 43,\n",
       " 45,\n",
       " 47,\n",
       " 49,\n",
       " 51,\n",
       " 53,\n",
       " 55,\n",
       " 57,\n",
       " 59,\n",
       " 61,\n",
       " 63,\n",
       " 65,\n",
       " 67,\n",
       " 69,\n",
       " 71,\n",
       " 73,\n",
       " 75,\n",
       " 77,\n",
       " 79,\n",
       " 81,\n",
       " 83,\n",
       " 85,\n",
       " 87,\n",
       " 89,\n",
       " 91,\n",
       " 93,\n",
       " 95,\n",
       " 97,\n",
       " 99]"
      ]
     },
     "execution_count": 12,
     "metadata": {},
     "output_type": "execute_result"
    }
   ],
   "source": [
    "#9\n",
    "\n",
    "[i for i in range(1,101) if i%2==1]"
   ]
  }
 ],
 "metadata": {
  "kernelspec": {
   "display_name": "Python 3 (ipykernel)",
   "language": "python",
   "name": "python3"
  },
  "language_info": {
   "codemirror_mode": {
    "name": "ipython",
    "version": 3
   },
   "file_extension": ".py",
   "mimetype": "text/x-python",
   "name": "python",
   "nbconvert_exporter": "python",
   "pygments_lexer": "ipython3",
   "version": "3.10.8"
  }
 },
 "nbformat": 4,
 "nbformat_minor": 5
}
